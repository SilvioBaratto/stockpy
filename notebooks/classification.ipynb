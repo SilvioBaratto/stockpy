{
 "cells": [
  {
   "cell_type": "markdown",
   "metadata": {},
   "source": [
    "# Tabular data and MNIST Classification tutorial"
   ]
  },
  {
   "cell_type": "markdown",
   "metadata": {},
   "source": [
    "This tutorial will walk you through the usage of the `stockpy` library for handling datasets and implementing machine learning algorithms for regression and classification tasks."
   ]
  },
  {
   "cell_type": "markdown",
   "metadata": {},
   "source": [
    "## Importing Required Libraries\n"
   ]
  },
  {
   "cell_type": "code",
   "execution_count": 1,
   "metadata": {},
   "outputs": [],
   "source": [
    "import torch\n",
    "import torch.nn as nn\n",
    "import torch.nn.functional as F\n",
    "import pyro\n",
    "import stockpy\n",
    "import pyro.distributions as dist\n",
    "from pyro.infer import Trace_ELBO, TraceMeanField_ELBO\n",
    "import numpy as np\n",
    "import matplotlib.pyplot as plt\n",
    "from stockpy.neural_network import *\n",
    "from stockpy.probabilistic import *"
   ]
  },
  {
   "cell_type": "markdown",
   "metadata": {},
   "source": [
    "# Preparing the Dataset\n",
    "\n",
    "We will create a synthetic dataset for classification with 10,000 samples, 20 features, and 5 classes."
   ]
  },
  {
   "cell_type": "code",
   "execution_count": 2,
   "metadata": {},
   "outputs": [],
   "source": [
    "from sklearn.datasets import make_classification\n",
    "from sklearn.model_selection import train_test_split\n",
    "\n",
    "X, y = make_classification(n_samples=10000, \n",
    "                           n_features=20, \n",
    "                           n_informative=15, \n",
    "                           n_redundant=5, \n",
    "                           n_classes=5, \n",
    "                           random_state=0)\n",
    "\n",
    "\n",
    "X_train, X_test, y_train, y_test = train_test_split(X, y, test_size=0.05, shuffle=False)"
   ]
  },
  {
   "cell_type": "markdown",
   "metadata": {},
   "source": [
    "# Scaling Features\n",
    "\n",
    "Scale the features to be between 0 and 1."
   ]
  },
  {
   "cell_type": "code",
   "execution_count": 3,
   "metadata": {},
   "outputs": [],
   "source": [
    "from sklearn.preprocessing import MinMaxScaler\n",
    "scaler = MinMaxScaler()\n",
    "X_train = scaler.fit_transform(X_train)\n",
    "X_test = scaler.transform(X_test)\n",
    "\n",
    "X_train = X_train.astype(np.float32)\n",
    "X_test = X_test.astype(np.float32)\n",
    "y_train = y_train.astype(np.int64)"
   ]
  },
  {
   "cell_type": "markdown",
   "metadata": {},
   "source": [
    "# Callbacks for Training\n",
    "\n",
    "Define callbacks like EarlyStopping and Learning Rate Scheduler for effective training."
   ]
  },
  {
   "cell_type": "code",
   "execution_count": 4,
   "metadata": {},
   "outputs": [],
   "source": [
    "from stockpy.callbacks import EarlyStopping, LRScheduler, Checkpoint\n",
    "from torch.optim.lr_scheduler import StepLR\n",
    "# Define early stopping callback\n",
    "early_stopping = EarlyStopping(\n",
    "    monitor='valid_acc',\n",
    "    patience=5,\n",
    "    threshold=0,\n",
    "    threshold_mode='rel',\n",
    "    lower_is_better=False)\n",
    "\n",
    "checkpoint = Checkpoint(\n",
    "    f_params='best_model_params.pt',       # where to save the model parameters\n",
    "    monitor='valid_loss_best',             # name of the variable that should be minimized\n",
    "    f_optimizer='best_optimizer_params.pt',  # where to save the optimizer\n",
    "    f_history='best_model_history.json',   # where to save the training history\n",
    ")\n",
    "\n",
    "# Define the LR scheduler callback\n",
    "lr_scheduler = LRScheduler(policy=StepLR, step_size=10, gamma=0.7)  # Added this line"
   ]
  },
  {
   "cell_type": "markdown",
   "metadata": {},
   "source": [
    "# Model Definition and Training\n",
    "\n",
    "Define an `LSTMClassifier` model and fit it to your training data."
   ]
  },
  {
   "cell_type": "code",
   "execution_count": 5,
   "metadata": {},
   "outputs": [
    {
     "name": "stdout",
     "output_type": "stream",
     "text": [
      "  epoch    train_loss    valid_acc    valid_loss     dur\n",
      "-------  ------------  -----------  ------------  ------\n",
      "      1        \u001b[36m1.3741\u001b[0m       \u001b[32m0.5395\u001b[0m        \u001b[35m1.1370\u001b[0m  0.8551\n",
      "      2        \u001b[36m1.1389\u001b[0m       \u001b[32m0.5895\u001b[0m        \u001b[35m1.0197\u001b[0m  0.9207\n",
      "      3        \u001b[36m1.0442\u001b[0m       \u001b[32m0.6142\u001b[0m        \u001b[35m0.9749\u001b[0m  1.3281\n",
      "      4        \u001b[36m0.9872\u001b[0m       \u001b[32m0.6400\u001b[0m        \u001b[35m0.9099\u001b[0m  1.8063\n",
      "      5        \u001b[36m0.9138\u001b[0m       \u001b[32m0.6842\u001b[0m        \u001b[35m0.8097\u001b[0m  1.6959\n",
      "      6        \u001b[36m0.8402\u001b[0m       0.6532        0.8847  1.6546\n",
      "      7        \u001b[36m0.7956\u001b[0m       \u001b[32m0.7211\u001b[0m        \u001b[35m0.7223\u001b[0m  1.6934\n",
      "      8        \u001b[36m0.7437\u001b[0m       \u001b[32m0.7268\u001b[0m        \u001b[35m0.6847\u001b[0m  2.1761\n",
      "      9        \u001b[36m0.6870\u001b[0m       \u001b[32m0.7442\u001b[0m        \u001b[35m0.6752\u001b[0m  2.0786\n",
      "     10        \u001b[36m0.6536\u001b[0m       0.7432        \u001b[35m0.6307\u001b[0m  2.0068\n",
      "     11        \u001b[36m0.5889\u001b[0m       \u001b[32m0.7732\u001b[0m        \u001b[35m0.6017\u001b[0m  1.6329\n",
      "     12        \u001b[36m0.5442\u001b[0m       \u001b[32m0.7826\u001b[0m        \u001b[35m0.5887\u001b[0m  1.3030\n",
      "     13        \u001b[36m0.5137\u001b[0m       \u001b[32m0.7884\u001b[0m        \u001b[35m0.5561\u001b[0m  1.0534\n",
      "     14        \u001b[36m0.5011\u001b[0m       \u001b[32m0.8074\u001b[0m        \u001b[35m0.5220\u001b[0m  0.8871\n",
      "     15        \u001b[36m0.4954\u001b[0m       0.8058        0.5387  0.9172\n",
      "     16        \u001b[36m0.4717\u001b[0m       0.8058        0.5291  0.9243\n",
      "     17        \u001b[36m0.4489\u001b[0m       \u001b[32m0.8100\u001b[0m        0.5241  0.9456\n",
      "     18        \u001b[36m0.4310\u001b[0m       \u001b[32m0.8253\u001b[0m        \u001b[35m0.5028\u001b[0m  0.8905\n",
      "     19        \u001b[36m0.4216\u001b[0m       0.8068        0.5325  0.8849\n",
      "     20        \u001b[36m0.3988\u001b[0m       0.7958        0.5818  0.8892\n",
      "     21        \u001b[36m0.3654\u001b[0m       0.8105        0.5346  0.8786\n",
      "     22        \u001b[36m0.3648\u001b[0m       0.8153        0.5049  0.8727\n",
      "     23        \u001b[36m0.3362\u001b[0m       0.8074        0.5365  0.9600\n",
      "Stopping since valid_acc has not improved in the last 5 epochs.\n"
     ]
    },
    {
     "data": {
      "text/plain": [
       "<class 'stockpy.neural_network._lstm.LSTMClassifier'>[initialized](\n",
       ")"
      ]
     },
     "execution_count": 5,
     "metadata": {},
     "output_type": "execute_result"
    }
   ],
   "source": [
    "predictor = LSTMClassifier(hidden_size=512,\n",
    "                           seq_len=60)\n",
    "\n",
    "predictor.fit(X_train, \n",
    "              y_train, \n",
    "              batch_size=32, \n",
    "              lr=0.01, \n",
    "              optimizer=torch.optim.Adam, \n",
    "              callbacks=[early_stopping, checkpoint, lr_scheduler],\n",
    "              epochs=50)"
   ]
  },
  {
   "cell_type": "markdown",
   "metadata": {},
   "source": [
    "# Making Predictions and Evaluating the Model\n",
    "\n",
    "Use the trained model to make predictions and evaluate the results using a confusion matrix."
   ]
  },
  {
   "cell_type": "code",
   "execution_count": 6,
   "metadata": {},
   "outputs": [],
   "source": [
    "from sklearn.metrics import confusion_matrix\n",
    "\n",
    "def plot_confusion_matrix(y_true, y_pred, classes, title='Confusion Matrix', cmap=plt.cm.Blues):\n",
    "    # Compute the confusion matrix\\n\",\n",
    "    cm = confusion_matrix(y_true, y_pred)\n",
    "\n",
    "    fig, ax = plt.subplots(figsize=(7, 6))\n",
    "    im = ax.imshow(cm, interpolation='nearest', cmap=cmap)\n",
    "    ax.figure.colorbar(im, ax=ax)\n",
    "\n",
    "    # Show all ticks and label them with their respective list entries\\n\",\n",
    "    ax.set(xticks=np.arange(cm.shape[1]),\n",
    "        yticks=np.arange(cm.shape[0]),\n",
    "        xticklabels=classes, yticklabels=classes,\n",
    "        title=title,\n",
    "        ylabel='True label',\n",
    "        xlabel='Predicted label')\n",
    "\n",
    "    # Loop over data dimensions and create text annotations\\n\",\n",
    "    for i in range(cm.shape[0]):\n",
    "        for j in range(cm.shape[1]):\n",
    "            ax.text(j, i, format(cm[i, j], 'd'),\n",
    "                    ha=\"center\", va=\"center\",\n",
    "                    color=\"white\" if cm[i, j] > cm.max() // 2 else \"black\")\n",
    "    plt.show()"
   ]
  },
  {
   "cell_type": "code",
   "execution_count": 7,
   "metadata": {},
   "outputs": [
    {
     "data": {
      "image/png": "[encoded data removed]",
      "text/plain": [
       "<Figure size 700x600 with 2 Axes>"
      ]
     },
     "metadata": {},
     "output_type": "display_data"
    }
   ],
   "source": [
    "y_pred = predictor.predict(X_test)\n",
    "\n",
    "plot_confusion_matrix(y_test, y_pred, classes=list(map(str, np.unique(y))))  # Replace classes with your actual classes\\n\""
   ]
  },
  {
   "cell_type": "markdown",
   "metadata": {},
   "source": [
    "# Classification Report\n",
    "\n",
    "Finally, generate a classification report to evaluate the model's performance."
   ]
  },
  {
   "cell_type": "code",
   "execution_count": 9,
   "metadata": {},
   "outputs": [
    {
     "name": "stdout",
     "output_type": "stream",
     "text": [
      "              precision    recall  f1-score   support\n",
      "\n",
      "           0       0.72      0.89      0.80        85\n",
      "           1       0.81      0.69      0.74       102\n",
      "           2       0.80      0.85      0.83       109\n",
      "           3       0.92      0.76      0.83       113\n",
      "           4       0.81      0.88      0.84        91\n",
      "\n",
      "    accuracy                           0.81       500\n",
      "   macro avg       0.81      0.81      0.81       500\n",
      "weighted avg       0.82      0.81      0.81       500\n",
      "\n"
     ]
    }
   ],
   "source": [
    "from sklearn.metrics import classification_report\n",
    "\n",
    "print(classification_report(y_test, y_pred, target_names=list(map(str, np.unique(y)))))"
   ]
  },
  {
   "cell_type": "markdown",
   "metadata": {},
   "source": [
    "# MNIST Dataset\n",
    "\n",
    "We will now use the MNIST dataset to train a classifier."
   ]
  },
  {
   "cell_type": "code",
   "execution_count": 10,
   "metadata": {},
   "outputs": [
    {
     "name": "stderr",
     "output_type": "stream",
     "text": [
      "/home/silvio/anaconda3/envs/stockpy/lib/python3.11/site-packages/sklearn/datasets/_openml.py:1022: FutureWarning: The default value of `parser` will change from `'liac-arff'` to `'auto'` in 1.4. You can set `parser='auto'` to silence this warning. Therefore, an `ImportError` will be raised from 1.4 if the dataset is dense and pandas is not installed. Note that the pandas parser may return different data types. See the Notes Section in fetch_openml's API doc for details.\n",
      "  warn(\n"
     ]
    }
   ],
   "source": [
    "from sklearn.datasets import fetch_openml\n",
    "\n",
    "mnist = fetch_openml('mnist_784', as_frame=False, cache=False)\n",
    "\n",
    "X = mnist.data.astype('float32')\n",
    "y = mnist.target.astype('int64')\n",
    "\n",
    "X /= 255.0"
   ]
  },
  {
   "cell_type": "code",
   "execution_count": 11,
   "metadata": {},
   "outputs": [],
   "source": [
    "X_train, X_test, y_train, y_test = train_test_split(X, y, test_size=0.25, shuffle=False)\n",
    "\n",
    "assert(X_train.shape[0] + X_test.shape[0] == mnist.data.shape[0])"
   ]
  },
  {
   "cell_type": "markdown",
   "metadata": {},
   "source": [
    "# Print a selection of training images and their labels"
   ]
  },
  {
   "cell_type": "code",
   "execution_count": 12,
   "metadata": {},
   "outputs": [],
   "source": [
    "def plot_example(X, y):\n",
    "    \"\"\"Plot the first 5 images and their labels in a row.\"\"\"\n",
    "    for i, (img, y) in enumerate(zip(X[:5].reshape(5, 28, 28), y[:5])):\n",
    "        plt.subplot(151 + i)\n",
    "        plt.imshow(img)\n",
    "        plt.xticks([])\n",
    "        plt.yticks([])\n",
    "        plt.title(y)"
   ]
  },
  {
   "cell_type": "code",
   "execution_count": 13,
   "metadata": {},
   "outputs": [
    {
     "data": {
      "image/png": "[encoded data removed]",
      "text/plain": [
       "<Figure size 640x480 with 5 Axes>"
      ]
     },
     "metadata": {},
     "output_type": "display_data"
    }
   ],
   "source": [
    "plot_example(X_train, y_train)"
   ]
  },
  {
   "cell_type": "code",
   "execution_count": 14,
   "metadata": {},
   "outputs": [
    {
     "name": "stdout",
     "output_type": "stream",
     "text": [
      "  epoch    train_loss    valid_acc    valid_loss     dur\n",
      "-------  ------------  -----------  ------------  ------\n",
      "      1        \u001b[36m0.4577\u001b[0m       \u001b[32m0.9197\u001b[0m        \u001b[35m0.2691\u001b[0m  1.6708\n"
     ]
    }
   ],
   "source": [
    "predictor = MLPClassifier()\n",
    "\n",
    "predictor.fit(X_train,\n",
    "              y_train,\n",
    "              batch_size=32,\n",
    "              lr=0.01,\n",
    "              optimizer=torch.optim.Adam,\n",
    "              callbacks=[early_stopping, checkpoint, lr_scheduler],\n",
    "              epochs=10)"
   ]
  },
  {
   "cell_type": "code",
   "execution_count": null,
   "metadata": {},
   "outputs": [],
   "source": [
    "y_pred = predictor.predict(X_test)\n",
    "\n",
    "plot_confusion_matrix(y_test, y_pred, classes=list(map(str, np.unique(y))))"
   ]
  },
  {
   "cell_type": "code",
   "execution_count": null,
   "metadata": {},
   "outputs": [],
   "source": [
    "print(classification_report(y_test, y_pred, target_names=list(map(str, np.unique(y)))))"
   ]
  }
 ],
 "metadata": {
  "kernelspec": {
   "display_name": "stockpy",
   "language": "python",
   "name": "python3"
  },
  "language_info": {
   "codemirror_mode": {
    "name": "ipython",
    "version": 3
   },
   "file_extension": ".py",
   "mimetype": "text/x-python",
   "name": "python",
   "nbconvert_exporter": "python",
   "pygments_lexer": "ipython3",
   "version": "3.11.0"
  },
  "orig_nbformat": 4
 },
 "nbformat": 4,
 "nbformat_minor": 2
}
